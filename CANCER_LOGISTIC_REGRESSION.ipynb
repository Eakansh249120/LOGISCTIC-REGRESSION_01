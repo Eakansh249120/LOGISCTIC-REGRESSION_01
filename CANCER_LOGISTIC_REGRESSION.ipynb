{
  "nbformat": 4,
  "nbformat_minor": 0,
  "metadata": {
    "colab": {
      "provenance": [],
      "authorship_tag": "ABX9TyMCdx8voUsGhOMVCJJkDYfL",
      "include_colab_link": true
    },
    "kernelspec": {
      "name": "python3",
      "display_name": "Python 3"
    },
    "language_info": {
      "name": "python"
    }
  },
  "cells": [
    {
      "cell_type": "markdown",
      "metadata": {
        "id": "view-in-github",
        "colab_type": "text"
      },
      "source": [
        "<a href=\"https://colab.research.google.com/github/Eakansh249120/LOGISCTIC-REGRESSION_01/blob/main/CANCER_LOGISTIC_REGRESSION.ipynb\" target=\"_parent\"><img src=\"https://colab.research.google.com/assets/colab-badge.svg\" alt=\"Open In Colab\"/></a>"
      ]
    },
    {
      "cell_type": "code",
      "execution_count": null,
      "metadata": {
        "id": "V6Mpd8o_Xa4m"
      },
      "outputs": [],
      "source": [
        "import pandas as pd\n",
        "import numpy as np\n",
        "import matplotlib as plt\n",
        "import seaborn as sns"
      ]
    },
    {
      "cell_type": "code",
      "source": [
        "df=pd.to_csv('data.csv')\n",
        "df\n"
      ],
      "metadata": {
        "colab": {
          "base_uri": "https://localhost:8080/",
          "height": 158
        },
        "id": "1DgZk4ONX9uq",
        "outputId": "6ae27559-71db-4ec9-8867-cd6b766c5e7f"
      },
      "execution_count": null,
      "outputs": [
        {
          "output_type": "error",
          "ename": "AttributeError",
          "evalue": "module 'pandas' has no attribute 'to_csv'",
          "traceback": [
            "\u001b[0;31m---------------------------------------------------------------------------\u001b[0m",
            "\u001b[0;31mAttributeError\u001b[0m                            Traceback (most recent call last)",
            "\u001b[0;32m/tmp/ipython-input-4-2916856842.py\u001b[0m in \u001b[0;36m<cell line: 0>\u001b[0;34m()\u001b[0m\n\u001b[0;32m----> 1\u001b[0;31m \u001b[0mdf\u001b[0m\u001b[0;34m=\u001b[0m\u001b[0mpd\u001b[0m\u001b[0;34m.\u001b[0m\u001b[0mto_csv\u001b[0m\u001b[0;34m(\u001b[0m\u001b[0;34m'data.csv'\u001b[0m\u001b[0;34m)\u001b[0m\u001b[0;34m\u001b[0m\u001b[0;34m\u001b[0m\u001b[0m\n\u001b[0m\u001b[1;32m      2\u001b[0m \u001b[0mdf\u001b[0m\u001b[0;34m\u001b[0m\u001b[0;34m\u001b[0m\u001b[0m\n",
            "\u001b[0;31mAttributeError\u001b[0m: module 'pandas' has no attribute 'to_csv'"
          ]
        }
      ]
    },
    {
      "cell_type": "code",
      "source": [
        "# @title Default title text\n",
        "# cleaning of data .............................\n",
        "df['diagnosis']=df['diagnosis'].map({\"M\":0,\"B\":1})\n",
        "df\n",
        "#df.drop([\"id\"],axis=1,inplace=True)\n",
        "df\n",
        "df.drop(['Unnamed: 32'],axis=1,inplace=True)\n",
        "df.columns\n"
      ],
      "metadata": {
        "id": "5jkgFP2bYkb-"
      },
      "execution_count": null,
      "outputs": []
    },
    {
      "cell_type": "code",
      "source": [
        "from sklearn.model_selection import train_test_split\n",
        "\n",
        "y=df['diagnosis']\n",
        "x=df.drop(['diagnosis'],axis=1)\n",
        "x_train,x_test,y_train,y_test=train_test_split(x,y,test_size=0.2,random_state=42)\n"
      ],
      "metadata": {
        "id": "l56hGdzPdDFP"
      },
      "execution_count": null,
      "outputs": []
    },
    {
      "cell_type": "code",
      "source": [
        "#ensures all values are on same scale\n",
        "\n",
        "from sklearn.preprocessing import StandardScaler\n",
        "scaler=StandardScaler()\n",
        "X_scaled = scaler.fit_transform(x)\n"
      ],
      "metadata": {
        "id": "YoeNc6YJguw8"
      },
      "execution_count": null,
      "outputs": []
    },
    {
      "cell_type": "code",
      "source": [
        "\n",
        "\n",
        "\n",
        "\n",
        "\n"
      ],
      "metadata": {
        "id": "L0qgATildnxo"
      },
      "execution_count": null,
      "outputs": []
    },
    {
      "cell_type": "code",
      "source": [
        "from sklearn.linear_model import LogisticRegression\n",
        "\n",
        "# Create logistic regression model\n",
        "lr = LogisticRegression()\n",
        "\n",
        "# Train the model on the training data\n",
        "lr.fit(x_train, y_train)\n",
        "\n",
        "# Predict the target variable on the test data\n",
        "y_pred = lr.predict(x_test)\n",
        "y_pred"
      ],
      "metadata": {
        "id": "256W_2J5hCoV"
      },
      "execution_count": null,
      "outputs": []
    },
    {
      "cell_type": "code",
      "source": [
        "df_y_pred = pd.DataFrame(ypred, columns=['Survived'])\n",
        "df_y_pred['id'] = range(1, len(df_pred) + 1)\n",
        "df_y_pred = df_pred[['id', 'Survived']]\n"
      ],
      "metadata": {
        "id": "X1pp5hEROqRQ"
      },
      "execution_count": null,
      "outputs": []
    }
  ]
}